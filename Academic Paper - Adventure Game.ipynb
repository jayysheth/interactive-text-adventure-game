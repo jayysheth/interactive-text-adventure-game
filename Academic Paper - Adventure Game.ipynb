{
 "cells": [
  {
   "cell_type": "code",
   "execution_count": 1,
   "id": "fd1dec7b",
   "metadata": {},
   "outputs": [],
   "source": [
    "# Interactive Text-Based Adventure Game\n",
    "\n",
    "# Prints the intro message and sets the scene for the player\n",
    "def intro():\n",
    "    print(\"Welcome to the Adventure Game!\")\n",
    "    print(\"You find yourself in a dark forest. There are paths to the left and right.\")\n",
    "    print(\"Which way do you want to go?\")"
   ]
  },
  {
   "cell_type": "code",
   "execution_count": 2,
   "id": "459e5f24",
   "metadata": {},
   "outputs": [],
   "source": [
    "# This function gets user input for choosing a path and validates it \n",
    "# (only accepts 'left' or 'right') before returning the chosen path\n",
    "def choose_path():\n",
    "    path = \"\"\n",
    "    while path != \"left\" and path != \"right\":\n",
    "        path = input(\"Enter 'left' or 'right': \").lower()\n",
    "    return path"
   ]
  },
  {
   "cell_type": "code",
   "execution_count": 3,
   "id": "a956b214",
   "metadata": {},
   "outputs": [],
   "source": [
    "# This function handles what happens if the player chooses the left path\n",
    "def left_path():\n",
    "    print(\"You walk down the left path and encounter a friendly jay.\")\n",
    "    print(\"The jay offers you a magical sword. Do you accept it?\")\n",
    "    choice = \"\"\n",
    "    while choice != \"yes\" and choice != \"no\":\n",
    "        choice = input(\"Enter 'yes' or 'no': \").lower()\n",
    "    if choice == \"yes\":\n",
    "        print(\"You have obtained the magical sword!\")\n",
    "        print(\"With the sword, you continue your journey and eventually find your way out of the forest. You win!\")\n",
    "    else:\n",
    "        print(\"You politely decline the jay's offer and continue on your way.\")\n",
    "        print(\"Unfortunately, without the sword, you get lost in the forest. Game over.\")"
   ]
  },
  {
   "cell_type": "code",
   "execution_count": 4,
   "id": "876fa1cd",
   "metadata": {},
   "outputs": [],
   "source": [
    "# This function handles what happens if the player chooses the right path \n",
    "def right_path():\n",
    "    print(\"You walk down the right path and encounter a sleeping dragon.\")\n",
    "    print(\"Do you try to sneak past the dragon or turn back?\")\n",
    "    choice = \"\"\n",
    "    while choice != \"sneak\" and choice != \"back\":\n",
    "        choice = input(\"Enter 'sneak' or 'back': \").lower()\n",
    "    if choice == \"sneak\":\n",
    "        print(\"You successfully sneak past the dragon and find a treasure chest filled with gold. You win!\")\n",
    "    else:\n",
    "        print(\"You turn back and safely return to where you started.\")\n",
    "        print(\"However, you missed out on the treasure. Game over.\")"
   ]
  },
  {
   "cell_type": "code",
   "execution_count": 5,
   "id": "a1b051ed",
   "metadata": {},
   "outputs": [],
   "source": [
    "# This function starts the actual game by calling the intro and path choosing functions\n",
    "def play_game():\n",
    "    intro()\n",
    "    path = choose_path()\n",
    "    if path == \"left\":\n",
    "        left_path()\n",
    "    else:\n",
    "        right_path()"
   ]
  },
  {
   "cell_type": "code",
   "execution_count": 6,
   "id": "e887a658",
   "metadata": {},
   "outputs": [
    {
     "name": "stdout",
     "output_type": "stream",
     "text": [
      "Welcome to the Adventure Game!\n",
      "You find yourself in a dark forest. There are paths to the left and right.\n",
      "Which way do you want to go?\n",
      "Enter 'left' or 'right': left\n",
      "You walk down the left path and encounter a friendly jay.\n",
      "The jay offers you a magical sword. Do you accept it?\n",
      "Enter 'yes' or 'no': yes\n",
      "You have obtained the magical sword!\n",
      "With the sword, you continue your journey and eventually find your way out of the forest. You win!\n"
     ]
    }
   ],
   "source": [
    "# Start the game\n",
    "play_game()"
   ]
  },
  {
   "cell_type": "code",
   "execution_count": 7,
   "id": "fb8f0380",
   "metadata": {},
   "outputs": [
    {
     "name": "stdout",
     "output_type": "stream",
     "text": [
      "Welcome to the Adventure Game!\n",
      "You find yourself in a dark forest. There are paths to the left and right.\n",
      "Which way do you want to go?\n",
      "Enter 'left' or 'right': right\n",
      "You walk down the right path and encounter a sleeping dragon.\n",
      "Do you try to sneak past the dragon or turn back?\n",
      "Enter 'sneak' or 'back': back\n",
      "You turn back and safely return to where you started.\n",
      "However, you missed out on the treasure. Game over.\n"
     ]
    }
   ],
   "source": [
    "# Start the game\n",
    "play_game()"
   ]
  },
  {
   "cell_type": "code",
   "execution_count": null,
   "id": "4f5e3276",
   "metadata": {},
   "outputs": [],
   "source": []
  }
 ],
 "metadata": {
  "kernelspec": {
   "display_name": "Python 3 (ipykernel)",
   "language": "python",
   "name": "python3"
  },
  "language_info": {
   "codemirror_mode": {
    "name": "ipython",
    "version": 3
   },
   "file_extension": ".py",
   "mimetype": "text/x-python",
   "name": "python",
   "nbconvert_exporter": "python",
   "pygments_lexer": "ipython3",
   "version": "3.11.5"
  }
 },
 "nbformat": 4,
 "nbformat_minor": 5
}
